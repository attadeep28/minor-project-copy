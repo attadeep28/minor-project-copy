{
 "cells": [
  {
   "cell_type": "markdown",
   "id": "61345443",
   "metadata": {},
   "source": [
    "# Course Recommendation using K-Means"
   ]
  },
  {
   "cell_type": "markdown",
   "id": "9802dbfc",
   "metadata": {},
   "source": [
    "### Clustering defined"
   ]
  },
  {
   "cell_type": "markdown",
   "id": "b13cecb3",
   "metadata": {},
   "source": [
    "Clustering is the task of grouping together a set of objects in a way that objects in the same cluster are more similar to each other than to objects in other clusters. Similarity is a metric that reflects the strength of relationship between two data objects. "
   ]
  },
  {
   "cell_type": "code",
   "execution_count": 1,
   "id": "f9577a56",
   "metadata": {},
   "outputs": [
    {
     "ename": "ModuleNotFoundError",
     "evalue": "No module named 'matplotlib'",
     "output_type": "error",
     "traceback": [
      "\u001b[1;31m---------------------------------------------------------------------------\u001b[0m",
      "\u001b[1;31mModuleNotFoundError\u001b[0m                       Traceback (most recent call last)",
      "Cell \u001b[1;32mIn[1], line 3\u001b[0m\n\u001b[0;32m      1\u001b[0m \u001b[38;5;66;03m# importing libraries\u001b[39;00m\n\u001b[0;32m      2\u001b[0m \u001b[38;5;28;01mimport\u001b[39;00m \u001b[38;5;21;01mpandas\u001b[39;00m \u001b[38;5;28;01mas\u001b[39;00m \u001b[38;5;21;01mpd\u001b[39;00m\n\u001b[1;32m----> 3\u001b[0m \u001b[38;5;28;01mimport\u001b[39;00m \u001b[38;5;21;01mmatplotlib\u001b[39;00m\u001b[38;5;21;01m.\u001b[39;00m\u001b[38;5;21;01mpyplot\u001b[39;00m \u001b[38;5;28;01mas\u001b[39;00m \u001b[38;5;21;01mplt\u001b[39;00m\n\u001b[0;32m      4\u001b[0m \u001b[38;5;28;01mfrom\u001b[39;00m \u001b[38;5;21;01msklearn\u001b[39;00m\u001b[38;5;21;01m.\u001b[39;00m\u001b[38;5;21;01mpreprocessing\u001b[39;00m \u001b[38;5;28;01mimport\u001b[39;00m LabelEncoder, StandardScaler, MinMaxScaler\n\u001b[0;32m      5\u001b[0m \u001b[38;5;28;01mfrom\u001b[39;00m \u001b[38;5;21;01msklearn\u001b[39;00m\u001b[38;5;21;01m.\u001b[39;00m\u001b[38;5;21;01mmodel_selection\u001b[39;00m \u001b[38;5;28;01mimport\u001b[39;00m train_test_split\n",
      "\u001b[1;31mModuleNotFoundError\u001b[0m: No module named 'matplotlib'"
     ]
    }
   ],
   "source": [
    "# importing libraries\n",
    "import pandas as pd\n",
    "import matplotlib.pyplot as plt\n",
    "from sklearn.preprocessing import LabelEncoder, StandardScaler, MinMaxScaler\n",
    "from sklearn.model_selection import train_test_split\n",
    "from sklearn.metrics import classification_report, confusion_matrix,ConfusionMatrixDisplay\n",
    "from sklearn.cluster import KMeans, AffinityPropagation\n",
    "import warnings\n",
    "warnings.filterwarnings(\"ignore\")\n",
    "%matplotlib inline"
   ]
  },
  {
   "cell_type": "code",
   "execution_count": null,
   "id": "a2a4e308",
   "metadata": {},
   "outputs": [],
   "source": [
    "coursesData = pd.read_csv(r\"D:\\pythonProject\\final_courses.csv\")\n",
    "coursesData"
   ]
  },
  {
   "cell_type": "code",
   "execution_count": null,
   "id": "22ed7c91-c532-469a-8737-356782dfb771",
   "metadata": {},
   "outputs": [],
   "source": [
    "coursesData.describe(include='all')"
   ]
  },
  {
   "cell_type": "code",
   "execution_count": null,
   "id": "58db98f9-6784-4827-ba8f-fa16a304b609",
   "metadata": {},
   "outputs": [],
   "source": [
    "coursesData.info()"
   ]
  },
  {
   "cell_type": "code",
   "execution_count": null,
   "id": "5f2edec3-08c9-4ab1-8902-628fd6882778",
   "metadata": {},
   "outputs": [],
   "source": [
    "# Removing unwanted columns\n",
    "coursesData = coursesData[['title', 'url', 'is_paid', 'course_by', 'skills']]\n",
    "coursesData"
   ]
  },
  {
   "cell_type": "code",
   "execution_count": null,
   "id": "001097c6-2a72-4923-a459-9bbbeed37b7f",
   "metadata": {},
   "outputs": [],
   "source": [
    "# check for duplicates\n",
    "coursesData.duplicated().sum()"
   ]
  },
  {
   "cell_type": "code",
   "execution_count": null,
   "id": "a5f4f03f-9672-44d1-b80a-786b8ac87899",
   "metadata": {},
   "outputs": [],
   "source": [
    "# check for missing values\n",
    "coursesData.isnull().sum()"
   ]
  },
  {
   "cell_type": "code",
   "execution_count": null,
   "id": "c725f892-38f2-41a7-997b-1add934e7143",
   "metadata": {},
   "outputs": [],
   "source": [
    "# Converting skills column to list type\n",
    "coursesData['skills'] = coursesData['skills'].str.split(',')\n",
    "coursesData"
   ]
  },
  {
   "cell_type": "code",
   "execution_count": null,
   "id": "a36fbcc4-9755-4663-ab78-1257e71ef5b4",
   "metadata": {},
   "outputs": [],
   "source": [
    "coursesData = coursesData.explode('skills', ignore_index=True)\n",
    "coursesData"
   ]
  },
  {
   "cell_type": "code",
   "execution_count": null,
   "id": "5e17bcb9-318d-4192-9174-1826fbe38cfa",
   "metadata": {},
   "outputs": [],
   "source": [
    "coursesData['skills'].value_counts()"
   ]
  },
  {
   "cell_type": "code",
   "execution_count": null,
   "id": "ca1c4ebe-09f7-4092-b810-6b445533ed6d",
   "metadata": {},
   "outputs": [],
   "source": [
    "coursesDataEncoded = coursesData.copy()"
   ]
  },
  {
   "cell_type": "markdown",
   "id": "4493a30a-adf9-4ada-b5b9-651ee4bde66b",
   "metadata": {},
   "source": [
    "### Label Encoding for Non numeric column "
   ]
  },
  {
   "cell_type": "code",
   "execution_count": null,
   "id": "5ff9fbc7-d965-4a73-b508-3d73e9050ddd",
   "metadata": {},
   "outputs": [],
   "source": [
    "features = ['title','url','is_paid','course_by','skills']\n",
    "label_encoder = LabelEncoder()\n",
    "\n",
    "for col in features:\n",
    "    coursesDataEncoded[col] = label_encoder.fit_transform(coursesDataEncoded[col])\n",
    "    # print(label_encoder.inverse_transform(coursesData[col])\n",
    "\n",
    "coursesData"
   ]
  },
  {
   "cell_type": "code",
   "execution_count": null,
   "id": "712e9846",
   "metadata": {},
   "outputs": [],
   "source": [
    "clusters_range = [2,3,4,5,6,7,8,9,10,11,12,13,14]\n",
    "inertias =[]\n",
    "\n",
    "for c in clusters_range:\n",
    "    kmeans = KMeans(n_clusters=c, init='k-means++',random_state=0).fit(coursesDataEncoded)\n",
    "    inertias.append(kmeans.inertia_)\n",
    "\n",
    "plt.figure()\n",
    "plt.plot(clusters_range,inertias, marker='o')\n",
    "plt.title(\"Elbow Plot\")\n",
    "plt.xlabel(\"Clusters\")\n",
    "plt.ylabel(\"Inertias\")"
   ]
  },
  {
   "cell_type": "code",
   "execution_count": null,
   "id": "be10466e",
   "metadata": {},
   "outputs": [],
   "source": [
    "kmeans = KMeans(n_clusters=6, init='k-means++', random_state=0).fit(coursesDataEncoded)\n",
    "kmeans"
   ]
  },
  {
   "cell_type": "code",
   "execution_count": null,
   "id": "b908394a",
   "metadata": {},
   "outputs": [],
   "source": [
    "identifiedCluster = kmeans.fit_predict(coursesDataEncoded)\n",
    "identifiedCluster = list(identifiedCluster)\n",
    "identifiedCluster\n"
   ]
  },
  {
   "cell_type": "code",
   "execution_count": null,
   "id": "98d9a1b7",
   "metadata": {},
   "outputs": [],
   "source": [
    "import joblib\n",
    "  \n",
    "# Save the xgb_clf_tfidf model as a pickle in a file\n",
    "joblib.dump(kmeans, r'D:\\pythonProject\\kmeansClustering.pkl')"
   ]
  },
  {
   "cell_type": "code",
   "execution_count": null,
   "id": "997fb15e-d95e-4973-93ee-b3046d085529",
   "metadata": {},
   "outputs": [],
   "source": [
    "coursesDataEncoded[\"cluster_predicted\"] = identifiedCluster\n",
    "coursesDataEncoded"
   ]
  },
  {
   "cell_type": "code",
   "execution_count": null,
   "id": "68c420d1",
   "metadata": {},
   "outputs": [],
   "source": [
    "coursesData[\"cluster_predicted\"] = identifiedCluster\n",
    "coursesData"
   ]
  },
  {
   "cell_type": "code",
   "execution_count": null,
   "id": "7429d247",
   "metadata": {},
   "outputs": [],
   "source": [
    "coursesData.describe()"
   ]
  },
  {
   "cell_type": "markdown",
   "id": "cde32646",
   "metadata": {},
   "source": [
    "### Cluster Identification "
   ]
  },
  {
   "cell_type": "code",
   "execution_count": null,
   "id": "6dbde8ce",
   "metadata": {},
   "outputs": [],
   "source": [
    "cluster_0 = coursesData[coursesData['cluster_predicted'] == 0]\n",
    "cluster_1 = coursesData[coursesData['cluster_predicted'] == 1]\n",
    "cluster_2 = coursesData[coursesData['cluster_predicted'] == 2]\n",
    "cluster_3 = coursesData[coursesData['cluster_predicted'] == 3]\n",
    "cluster_4 = coursesData[coursesData['cluster_predicted'] == 4]\n",
    "cluster_5 = coursesData[coursesData['cluster_predicted'] == 5]"
   ]
  },
  {
   "cell_type": "code",
   "execution_count": null,
   "id": "0e6e5831",
   "metadata": {},
   "outputs": [],
   "source": [
    "cluster_0.info()"
   ]
  },
  {
   "cell_type": "code",
   "execution_count": null,
   "id": "e1c11696",
   "metadata": {},
   "outputs": [],
   "source": [
    "cluster_1"
   ]
  },
  {
   "cell_type": "code",
   "execution_count": null,
   "id": "a540c971",
   "metadata": {},
   "outputs": [],
   "source": [
    "cluster_1.info()"
   ]
  },
  {
   "cell_type": "code",
   "execution_count": null,
   "id": "659b01d5",
   "metadata": {},
   "outputs": [],
   "source": [
    "cluster_2.info()"
   ]
  },
  {
   "cell_type": "code",
   "execution_count": null,
   "id": "0f632d2a",
   "metadata": {
    "scrolled": true
   },
   "outputs": [],
   "source": [
    "cluster_3.info()"
   ]
  },
  {
   "cell_type": "code",
   "execution_count": null,
   "id": "c79257bf-5a48-42f2-ac7f-ca74f09e7b02",
   "metadata": {},
   "outputs": [],
   "source": [
    "# # Load the model from the file\n",
    "kmeans_model = joblib.load(r'D:\\pythonProject\\kmeansClustering.pkl')\n",
    "kmeans_model\n"
   ]
  },
  {
   "cell_type": "code",
   "execution_count": null,
   "id": "5ca160f4-3318-4ffa-b71e-d6e19cda460f",
   "metadata": {},
   "outputs": [],
   "source": [
    "coursesData.to_csv(r\"D:\\pythonProject\\coursesData.csv\",header=True, index=False)\n",
    "coursesDataEncoded.to_csv(r\"D:\\pythonProject\\coursesDataEnc.csv\",header=True, index=False)"
   ]
  },
  {
   "cell_type": "code",
   "execution_count": null,
   "id": "9f0746fb-835c-4a1c-adcd-f95d8957e939",
   "metadata": {},
   "outputs": [],
   "source": [
    "courses_data = pd.read_csv(r'D:\\pythonProject\\coursesData.csv')\n",
    "courses_data"
   ]
  },
  {
   "cell_type": "code",
   "execution_count": null,
   "id": "048ba834-4a35-4fec-b2b9-762714678b7c",
   "metadata": {},
   "outputs": [],
   "source": [
    "courses_data['skills'] == 'Data Science'\n"
   ]
  },
  {
   "cell_type": "code",
   "execution_count": null,
   "id": "c3b0eaee-7b8b-403f-9660-640a08fcee63",
   "metadata": {},
   "outputs": [],
   "source": [
    "courses_data[courses_data['skills'] == 'Data Science']"
   ]
  },
  {
   "cell_type": "code",
   "execution_count": null,
   "id": "b1d5776a-7b30-4e85-a8dd-bf76536bba73",
   "metadata": {},
   "outputs": [],
   "source": [
    "courses_data[courses_data['skills'] == 'Data Science'].cluster_predicted"
   ]
  },
  {
   "cell_type": "code",
   "execution_count": null,
   "id": "224ec55f-4f7f-448d-a2f4-0b7df0d55a96",
   "metadata": {},
   "outputs": [],
   "source": [
    "type(courses_data[courses_data['skills'] == 'Data Science'].cluster_predicted)"
   ]
  },
  {
   "cell_type": "code",
   "execution_count": null,
   "id": "51e2a4ec-c0fa-4a9d-bb03-95d93f48d1b5",
   "metadata": {},
   "outputs": [],
   "source": [
    "cluster_no_list=courses_data[courses_data['skills'] == 'Data Science'].cluster_predicted.tolist()\n",
    "cluster_no_list"
   ]
  },
  {
   "cell_type": "code",
   "execution_count": null,
   "id": "540cb539-90a0-45a7-8f9f-8f2783aa7960",
   "metadata": {},
   "outputs": [],
   "source": [
    "cluster_no = courses_data[courses_data['skills'] == 'Data Science'].cluster_predicted\n",
    "cluster_no"
   ]
  },
  {
   "cell_type": "code",
   "execution_count": null,
   "id": "93bb9cdd-f86f-444b-8275-a52e8d9ee162",
   "metadata": {},
   "outputs": [],
   "source": [
    "courses_data['cluster_predicted']==cluster_no_list[0]\n"
   ]
  },
  {
   "cell_type": "code",
   "execution_count": null,
   "id": "0a206dfb-7ab3-42c5-a229-ce7d07d85b9b",
   "metadata": {},
   "outputs": [],
   "source": [
    "courses_data[courses_data['cluster_predicted']==cluster_no_list[0]]"
   ]
  },
  {
   "cell_type": "code",
   "execution_count": null,
   "id": "d1804ff5-9db9-4823-bc5f-f7d3eb3a4e4f",
   "metadata": {},
   "outputs": [],
   "source": []
  }
 ],
 "metadata": {
  "kernelspec": {
   "display_name": "Python 3 (ipykernel)",
   "language": "python",
   "name": "python3"
  },
  "language_info": {
   "codemirror_mode": {
    "name": "ipython",
    "version": 3
   },
   "file_extension": ".py",
   "mimetype": "text/x-python",
   "name": "python",
   "nbconvert_exporter": "python",
   "pygments_lexer": "ipython3",
   "version": "3.11.5"
  }
 },
 "nbformat": 4,
 "nbformat_minor": 5
}
